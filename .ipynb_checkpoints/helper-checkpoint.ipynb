{
 "cells": [
  {
   "cell_type": "code",
   "execution_count": 28,
   "metadata": {
    "collapsed": true
   },
   "outputs": [],
   "source": [
    "import matplotlib.image as mpimg\n",
    "import numpy as np\n",
    "from matplotlib import pyplot as plt\n",
    "import cv2\n",
    "import os\n",
    "def load_images_from_folder(folder):\n",
    "    images = []\n",
    "    for filename in os.listdir(folder):\n",
    "        img = cv2.imread(os.path.join(folder,filename))\n",
    "        img = np.reshape(img, (233772))\n",
    "        if filename[:filename.rfind('_')] == \"martensite\":\n",
    "            x=1\n",
    "        else:\n",
    "            x=2\n",
    "        np.insert(img,0,x)\n",
    "        if img is not None:\n",
    "            images.append(img)\n",
    "    return images\n",
    "#img=cv2.imread('/home/pulkit/Desktop/martensite_0.tif',1)\n",
    "\n"
   ]
  },
  {
   "cell_type": "code",
   "execution_count": 29,
   "metadata": {},
   "outputs": [
    {
     "name": "stdout",
     "output_type": "stream",
     "text": [
      "[[[165 165 165]\n",
      "  [ 96  96  96]\n",
      "  [128 128 128]\n",
      "  ..., \n",
      "  [183 183 183]\n",
      "  [205 205 205]\n",
      "  [255 255 255]]\n",
      "\n",
      " [[138 138 138]\n",
      "  [102 102 102]\n",
      "  [145 145 145]\n",
      "  ..., \n",
      "  [254 254 254]\n",
      "  [134 134 134]\n",
      "  [167 167 167]]\n",
      "\n",
      " [[128 128 128]\n",
      "  [ 78  78  78]\n",
      "  [139 139 139]\n",
      "  ..., \n",
      "  [239 239 239]\n",
      "  [108 108 108]\n",
      "  [151 151 151]]\n",
      "\n",
      " ..., \n",
      " [[130 130 130]\n",
      "  [ 35  35  35]\n",
      "  [161 161 161]\n",
      "  ..., \n",
      "  [104 104 104]\n",
      "  [ 75  75  75]\n",
      "  [126 126 126]]\n",
      "\n",
      " [[150 150 150]\n",
      "  [ 43  43  43]\n",
      "  [172 172 172]\n",
      "  ..., \n",
      "  [ 51  51  51]\n",
      "  [ 47  47  47]\n",
      "  [ 42  42  42]]\n",
      "\n",
      " [[140 140 140]\n",
      "  [ 45  45  45]\n",
      "  [164 164 164]\n",
      "  ..., \n",
      "  [166 166 166]\n",
      "  [150 150 150]\n",
      "  [ 92  92  92]]]\n"
     ]
    }
   ],
   "source": [
    "folder = \"/home/pulkit/Desktop/micro/\"\n",
    "imag = load_images_from_folder(folder)\n",
    "print imag[0]"
   ]
  },
  {
   "cell_type": "code",
   "execution_count": 27,
   "metadata": {},
   "outputs": [
    {
     "data": {
      "text/plain": [
       "array([ 1,  2, 66,  3,  4])"
      ]
     },
     "execution_count": 27,
     "metadata": {},
     "output_type": "execute_result"
    }
   ],
   "source": [
    "import numpy as np\n",
    "a = np.asarray([1,2,3,4])\n",
    "np.insert(a, 2, 66)"
   ]
  }
 ],
 "metadata": {
  "kernelspec": {
   "display_name": "Python 2",
   "language": "python",
   "name": "python2"
  },
  "language_info": {
   "codemirror_mode": {
    "name": "ipython",
    "version": 2
   },
   "file_extension": ".py",
   "mimetype": "text/x-python",
   "name": "python",
   "nbconvert_exporter": "python",
   "pygments_lexer": "ipython2",
   "version": "2.7.14"
  }
 },
 "nbformat": 4,
 "nbformat_minor": 2
}
