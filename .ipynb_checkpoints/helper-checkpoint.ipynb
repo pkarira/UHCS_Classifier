{
 "cells": [
  {
   "cell_type": "code",
   "execution_count": 49,
   "metadata": {},
   "outputs": [],
   "source": [
    "import matplotlib.image as mpimg\n",
    "import numpy as np\n",
    "from matplotlib import pyplot as plt\n",
    "import cv2\n",
    "import os\n",
    "def load_images_from_folder(folder):\n",
    "    images = []\n",
    "    for filename in os.listdir(folder):\n",
    "        img = cv2.imread(os.path.join(folder,filename))\n",
    "        img = np.reshape(img, (233772))\n",
    "        if filename[:filename.rfind('_')] == \"pearlite\":\n",
    "            x=0\n",
    "        elif filename[:filename.rfind('_')] == \"spheroidite\":\n",
    "            x=1\n",
    "        elif filename[:filename.rfind('_')] == \"martensite\":\n",
    "            x=2\n",
    "        elif filename[:filename.rfind('_')] == \"network\":\n",
    "            x=3\n",
    "        elif filename[:filename.rfind('_')] == \"spheroidite+widmanstatten\":\n",
    "            x=4\n",
    "        elif filename[:filename.rfind('_')] == \"pearlite+spheroidite\":\n",
    "            x=5\n",
    "        elif filename[:filename.rfind('_')] == \"pearlite+widmanstatten\":\n",
    "            x=6\n",
    "        img = np.insert(img,0,x)\n",
    "        if img is not None:\n",
    "            images.append(img)\n",
    "    return images"
   ]
  },
  {
   "cell_type": "code",
   "execution_count": 50,
   "metadata": {},
   "outputs": [],
   "source": [
    "folder = \"/home/pulkit/Desktop/micrographs/\"\n",
    "imag = load_images_from_folder(folder)\n",
    "np.savetxt(\"/home/pulkit/microstructure.csv\", imag, delimiter=\",\")"
   ]
  }
 ],
 "metadata": {
  "kernelspec": {
   "display_name": "Python 2",
   "language": "python",
   "name": "python2"
  },
  "language_info": {
   "codemirror_mode": {
    "name": "ipython",
    "version": 2
   },
   "file_extension": ".py",
   "mimetype": "text/x-python",
   "name": "python",
   "nbconvert_exporter": "python",
   "pygments_lexer": "ipython2",
   "version": "2.7.14"
  }
 },
 "nbformat": 4,
 "nbformat_minor": 2
}
