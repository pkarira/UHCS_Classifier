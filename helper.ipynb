{
 "cells": [
  {
   "cell_type": "code",
   "execution_count": 6,
   "metadata": {},
   "outputs": [
    {
     "name": "stdout",
     "output_type": "stream",
     "text": [
      "[[[155 155 155]\n",
      "  [184 184 184]\n",
      "  [112 112 112]\n",
      "  ..., \n",
      "  [217 217 217]\n",
      "  [247 247 247]\n",
      "  [250 250 250]]\n",
      "\n",
      " [[168 168 168]\n",
      "  [170 170 170]\n",
      "  [121 121 121]\n",
      "  ..., \n",
      "  [172 172 172]\n",
      "  [111 111 111]\n",
      "  [160 160 160]]\n",
      "\n",
      " [[170 170 170]\n",
      "  [196 196 196]\n",
      "  [117 117 117]\n",
      "  ..., \n",
      "  [221 221 221]\n",
      "  [237 237 237]\n",
      "  [222 222 222]]\n",
      "\n",
      " ..., \n",
      " [[155 155 155]\n",
      "  [102 102 102]\n",
      "  [124 124 124]\n",
      "  ..., \n",
      "  [134 134 134]\n",
      "  [186 186 186]\n",
      "  [255 255 255]]\n",
      "\n",
      " [[168 168 168]\n",
      "  [117 117 117]\n",
      "  [129 129 129]\n",
      "  ..., \n",
      "  [202 202 202]\n",
      "  [186 186 186]\n",
      "  [209 209 209]]\n",
      "\n",
      " [[153 153 153]\n",
      "  [114 114 114]\n",
      "  [137 137 137]\n",
      "  ..., \n",
      "  [182 182 182]\n",
      "  [159 159 159]\n",
      "  [205 205 205]]]\n"
     ]
    }
   ],
   "source": [
    "import matplotlib.image as mpimg\n",
    "from matplotlib import pyplot as plt\n",
    "import cv2\n",
    "#img=mpimg.imread('/home/pulkit/Desktop/martensite_0.tif')\n",
    "img=cv2.imread('/home/pulkit/Desktop/martensite_0.tif',1)\n",
    "print img"
   ]
  }
 ],
 "metadata": {
  "kernelspec": {
   "display_name": "Python 2",
   "language": "python",
   "name": "python2"
  },
  "language_info": {
   "codemirror_mode": {
    "name": "ipython",
    "version": 2
   },
   "file_extension": ".py",
   "mimetype": "text/x-python",
   "name": "python",
   "nbconvert_exporter": "python",
   "pygments_lexer": "ipython2",
   "version": "2.7.14"
  }
 },
 "nbformat": 4,
 "nbformat_minor": 2
}
